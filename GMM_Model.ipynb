{
 "cells": [
  {
   "cell_type": "markdown",
   "id": "204dcf26",
   "metadata": {},
   "source": [
    "#### GMM Clustering By Priti Sharma"
   ]
  },
  {
   "cell_type": "code",
   "execution_count": 28,
   "id": "ac82c197",
   "metadata": {},
   "outputs": [],
   "source": [
    "## Applied GMM clustering on Yahoo live stock data for some selected set of stocks.\n",
    "## Also Calculated Akaike information criterion (AIC) or the Bayesian information criterion (BIC) \n",
    "## to find the optimal number of clusters.\n"
   ]
  },
  {
   "cell_type": "code",
   "execution_count": 29,
   "id": "0bbaf739",
   "metadata": {},
   "outputs": [],
   "source": [
    "from pandas_datareader import data \n",
    "import pandas_datareader.data as web\n",
    "import matplotlib.pyplot as plt\n",
    "import pandas as pd\n",
    "import datetime as dt\n",
    "import numpy as np\n",
    "import plotly.graph_objects as go\n",
    "from sklearn.mixture import GaussianMixture\n"
   ]
  },
  {
   "cell_type": "code",
   "execution_count": 30,
   "id": "0e409002",
   "metadata": {},
   "outputs": [
    {
     "data": {
      "text/plain": [
       "dict_values(['AMZN', 'AAPL', 'WBA', 'NOC', 'BA', 'LMT', 'MCD', 'INTC', 'SNPS', 'IBM', 'TXN', 'MA', 'MSFT', 'GE', 'CDNS', 'AXP', 'PEP', 'KO', 'JNJ', 'TM', 'HMC', 'ABB', 'SONY', 'XOM', 'CVX', 'VLO', 'F', 'BAC', 'FB', 'AAL', 'TSLA', 'AMC', 'DIS', 'PFE', 'CCL', 'NOK', 'BABA', 'NFLX', 'DAL', 'PLTR', 'BAC', 'BB', 'NVDA', 'SBUX', 'AMD', 'T', 'TWTR', 'GM', 'GE', 'WMT', 'PYPL', 'MRO', 'JBLU', 'NKE', 'KR', 'FIZZ', 'PLAY'])"
      ]
     },
     "execution_count": 30,
     "metadata": {},
     "output_type": "execute_result"
    }
   ],
   "source": [
    "companies_dict = {\n",
    "    'Amazon':'AMZN',\n",
    "    'Apple':'AAPL',\n",
    "    'Walgreen':'WBA',\n",
    "    'Northrop Grumman':'NOC',\n",
    "    'Boeing':'BA',\n",
    "    'Lockheed Martin':'LMT',\n",
    "    'McDonalds':'MCD',\n",
    "    'Intel':'INTC',\n",
    "    'Synopsys':'SNPS',\n",
    "    'IBM':'IBM',\n",
    "    'Texas Instruments':'TXN',\n",
    "    'MasterCard':'MA',\n",
    "    'Microsoft':'MSFT',\n",
    "    'General Electrics':'GE',\n",
    "    'Cadence':'CDNS',\n",
    "    'American Express':'AXP',\n",
    "    'Pepsi':'PEP',\n",
    "    'Coca Cola':'KO',\n",
    "    'Johnson & Johnson':'JNJ',\n",
    "    'Toyota':'TM',\n",
    "    'Honda':'HMC',\n",
    "    'ABB':'ABB',\n",
    "    'Sony':'SONY',\n",
    "    'Exxon':'XOM',\n",
    "    'Chevron':'CVX',\n",
    "    'Valero Energy':'VLO',\n",
    "    'Ford':'F',\n",
    "    'Bank of America':'BAC',\n",
    "    'Facebook': 'FB',\n",
    "    'American Airlines': 'AAL',\n",
    "    'Tesla': 'TSLA',\n",
    "    'AMC Ent': 'AMC',\n",
    "    'Disney': 'DIS',\n",
    "    'Pfizer': 'PFE',\n",
    "    'Carnival': 'CCL',\n",
    "    'Nokia': 'NOK',\n",
    "    'AliBaba': 'BABA',\n",
    "    'Netflix': 'NFLX',\n",
    "    'Delta Airlines': 'DAL',\n",
    "    'Palantir': 'PLTR',\n",
    "    'Bank Of Maerica': 'BAC',\n",
    "    'Blackberry': 'BB',\n",
    "    'Nvidia': 'NVDA',\n",
    "    'Starbucks': 'SBUX',\n",
    "    'AMD': 'AMD',\n",
    "    'ATT': 'T',\n",
    "    'Twitter': 'TWTR',\n",
    "    'GM': 'GM',\n",
    "    'GE': 'GE',\n",
    "    'Boeing': 'BA',\n",
    "    'Walmart': 'WMT',\n",
    "    'Paypal': 'PYPL',\n",
    "    'Marathon Oil': 'MRO',\n",
    "    'JetBlue Airways': 'JBLU',\n",
    "    'Nike': 'NKE',\n",
    "    'Kroger': 'KR',\n",
    "    'National Beverage': 'FIZZ',\n",
    "    'Dave Busters': 'PLAY'\n",
    "}\n",
    "\n",
    "import requests\n",
    "import io\n",
    "companies_dict.values()\n"
   ]
  },
  {
   "cell_type": "code",
   "execution_count": 31,
   "id": "38e0db30",
   "metadata": {},
   "outputs": [
    {
     "name": "stdout",
     "output_type": "stream",
     "text": [
      "Attributes    Adj Close                                                 \\\n",
      "Symbols            AMZN        AAPL        WBA         NOC          BA   \n",
      "Date                                                                     \n",
      "2019-01-02  1539.130005   38.326298  60.846283  234.309158  314.645142   \n",
      "2019-01-03  1500.280029   34.508709  60.211361  228.174927  302.100555   \n",
      "2019-01-04  1575.390015   35.981865  62.214520  235.764282  317.822571   \n",
      "2019-01-07  1629.510010   35.901779  62.572247  237.599838  318.823395   \n",
      "2019-01-08  1656.579956   36.586170  63.824211  238.674500  330.891937   \n",
      "...                 ...         ...        ...         ...         ...   \n",
      "2021-06-28  3443.889893  134.382248  51.206039  367.023682  239.960007   \n",
      "2021-06-29  3448.139893  135.927673  50.990269  357.208923  235.759995   \n",
      "2021-06-30  3440.159912  136.555817  51.598347  360.302032  239.559998   \n",
      "2021-07-01  3432.969971  136.864899  47.773338  364.455963  239.729996   \n",
      "2021-07-02  3510.979980  139.546967  47.243725  366.022400  236.679993   \n",
      "\n",
      "Attributes                                                             ...  \\\n",
      "Symbols            LMT         MCD       INTC        SNPS         IBM  ...   \n",
      "Date                                                                   ...   \n",
      "2019-01-02  244.216843  163.972183  43.686810   84.050003   95.081230  ...   \n",
      "2019-01-03  238.082108  162.891800  41.283478   81.110001   93.183075  ...   \n",
      "2019-01-04  244.502808  166.039749  43.816715   83.900002   96.822586  ...   \n",
      "2019-01-07  247.307236  167.846527  44.020866   85.760002   97.507576  ...   \n",
      "2019-01-08  248.958527  168.200470  44.299240   86.099998   98.894058  ...   \n",
      "...                ...         ...        ...         ...         ...  ...   \n",
      "2021-06-28  374.244293  228.562851  56.714485  274.029999  135.511353  ...   \n",
      "2021-06-29  367.696228  227.850723  55.994209  276.179993  135.753845  ...   \n",
      "2021-06-30  372.550629  228.463959  55.392330  275.790009  136.723846  ...   \n",
      "2021-07-01  374.391968  229.729950  55.264061  277.109985  136.957031  ...   \n",
      "2021-07-02  375.642487  231.075089  56.004074  279.160004  130.596054  ...   \n",
      "\n",
      "Attributes      Volume                                                  \\\n",
      "Symbols           TWTR          GM         WMT        PYPL         MRO   \n",
      "Date                                                                     \n",
      "2019-01-02  15053700.0   7662300.0   8152700.0  10146200.0  10497100.0   \n",
      "2019-01-03  19051700.0  11618300.0   8277300.0   9650700.0  10915100.0   \n",
      "2019-01-04  23412600.0  10784000.0   8029100.0   9234800.0  14563500.0   \n",
      "2019-01-07  19917800.0  10722300.0   7789700.0  11094100.0  10186700.0   \n",
      "2019-01-08  18915200.0  10532900.0   7200900.0   8307600.0  12484700.0   \n",
      "...                ...         ...         ...         ...         ...   \n",
      "2021-06-28  11176100.0  17152700.0   5183000.0   5058600.0  18243400.0   \n",
      "2021-06-29   9526400.0  12171800.0  11987500.0   4333200.0  13127900.0   \n",
      "2021-06-30   9752900.0  12330500.0  15170400.0   4236000.0  16963600.0   \n",
      "2021-07-01   9978800.0  11752100.0   8782900.0   5647400.0  26934100.0   \n",
      "2021-07-02   8095600.0   9689700.0   8760200.0   4169400.0  13769100.0   \n",
      "\n",
      "Attributes                                                           \n",
      "Symbols           JBLU         NKE          KR      FIZZ       PLAY  \n",
      "Date                                                                 \n",
      "2019-01-02   2589400.0   6762700.0   5512200.0  683800.0  1150000.0  \n",
      "2019-01-03   6430800.0   8007400.0   8780700.0  366400.0   871000.0  \n",
      "2019-01-04   4754100.0   7844200.0  10299000.0  682800.0  1010900.0  \n",
      "2019-01-07   3189000.0   8184800.0   8238600.0  505200.0  1190800.0  \n",
      "2019-01-08   3921900.0   8809000.0   6063000.0  969800.0  1033000.0  \n",
      "...                ...         ...         ...       ...        ...  \n",
      "2021-06-28   9725700.0  13133300.0   5939600.0  331400.0  1929800.0  \n",
      "2021-06-29   7732600.0  10279900.0   5575700.0  307000.0  1049300.0  \n",
      "2021-06-30  11348900.0  10281800.0   9055800.0  346800.0   805400.0  \n",
      "2021-07-01  10403500.0   9011500.0   5589700.0  437900.0   986700.0  \n",
      "2021-07-02   4916800.0   6396700.0   6047900.0  418800.0   541400.0  \n",
      "\n",
      "[631 rows x 330 columns]\n"
     ]
    }
   ],
   "source": [
    "df = web.DataReader(list(companies_dict.values()),'yahoo',start='2019-01-01',end='2021-07-5')\n",
    "print(df)"
   ]
  },
  {
   "cell_type": "code",
   "execution_count": 32,
   "id": "f4a0a8d0",
   "metadata": {},
   "outputs": [
    {
     "name": "stdout",
     "output_type": "stream",
     "text": [
      "                     Returns  Variance\n",
      "Attributes Symbols                    \n",
      "Adj Close  AMZN     0.001491  0.019047\n",
      "           AAPL     0.002311  0.022692\n",
      "           WBA     -0.000120  0.023696\n",
      "           NOC      0.000886  0.018931\n",
      "           BA       0.000276  0.038170\n",
      "...                      ...       ...\n",
      "Volume     JBLU     0.086889  0.521377\n",
      "           NKE      0.069394  0.420352\n",
      "           KR       0.079908  0.496717\n",
      "           FIZZ     0.150275  0.810259\n",
      "           PLAY     0.127396  0.783111\n",
      "\n",
      "[330 rows x 2 columns]\n"
     ]
    },
    {
     "data": {
      "image/png": "[encoded data removed]",
      "text/plain": [
       "<Figure size 432x288 with 1 Axes>"
      ]
     },
     "metadata": {
      "needs_background": "light"
     },
     "output_type": "display_data"
    },
    {
     "data": {
      "image/png": "[encoded data removed]",
      "text/plain": [
       "<Figure size 432x288 with 1 Axes>"
      ]
     },
     "metadata": {
      "needs_background": "light"
     },
     "output_type": "display_data"
    }
   ],
   "source": [
    "from math import sqrt\n",
    "from sklearn.cluster import KMeans\n",
    "#df.head\n",
    "#print(df.columns)\n",
    "#Calculating annual mean returns and variances\n",
    "#returns = df.pct_change().mean() * 252\n",
    "#variance = df.pct_change().std() * sqrt(252)\n",
    "returns = df.pct_change().mean() \n",
    "variance = df.pct_change().std() \n",
    "\n",
    "\n",
    "returns.columns = [\"Returns\"]\n",
    "variance.columns = [\"Variance\"]\n",
    "#Concatenating the returns and variances into a single data-frame\n",
    "ret_var = pd.concat([returns, variance], axis = 1).dropna()\n",
    "ret_var.columns = [\"Returns\",\"Variance\"]\n",
    "\n",
    "\n",
    "print(ret_var)\n",
    "\n",
    "\n",
    "\n",
    "X = ret_var.values #Converting ret_var into nummpy array\n",
    "#X = ret_var\n",
    "sse = []\n",
    "for k in range(1,30):\n",
    "    \n",
    "    kmeans = KMeans(n_clusters = k)\n",
    "    kmeans.fit(X)\n",
    "    \n",
    "    sse.append(kmeans.inertia_) #SSE for each n_clusters\n",
    "plt.plot(range(1,30), sse)\n",
    "plt.title(\"Elbow Curve\")\n",
    "plt.show()\n",
    "\n",
    "kmeans = KMeans(n_clusters = 6).fit(X)\n",
    "centroids = kmeans.cluster_centers_\n",
    "plt.scatter(X[:,0],X[:,1], c = kmeans.labels_, cmap =\"rainbow\")\n",
    "plt.show()\n",
    "\n",
    "\n",
    "\n"
   ]
  },
  {
   "cell_type": "code",
   "execution_count": 33,
   "id": "6c14f501",
   "metadata": {},
   "outputs": [
    {
     "data": {
      "image/png": "[encoded data removed]",
      "text/plain": [
       "<Figure size 432x288 with 1 Axes>"
      ]
     },
     "metadata": {
      "needs_background": "light"
     },
     "output_type": "display_data"
    },
    {
     "data": {
      "image/png": "[encoded data removed]",
      "text/plain": [
       "<Figure size 432x288 with 1 Axes>"
      ]
     },
     "metadata": {
      "needs_background": "light"
     },
     "output_type": "display_data"
    }
   ],
   "source": [
    "# training gaussian mixture model\n",
    "# Using predict method to get the lists of points and the respective clusters.\n",
    "# Train the model using optimal number of clusters, in this case 6.\n",
    "\n",
    "Y =  ret_var.values\n",
    "n_components = np.arange(1, 30)\n",
    "models = [GaussianMixture(n, covariance_type='full', random_state=0).fit(Y) for n in n_components]\n",
    "plt.plot(n_components, [m.bic(Y) for m in models], label='BIC')\n",
    "plt.plot(n_components, [m.aic(Y) for m in models], label='AIC')\n",
    "plt.legend(loc='best')\n",
    "plt.xlabel('n_components');\n",
    "plt.show()\n",
    "\n",
    "\n",
    "gmm = GaussianMixture(n_components=6)\n",
    "gmm.fit(Y)\n",
    "labels = gmm.predict(Y)\n",
    "plt.scatter(Y[:, 0], Y[:, 1], c=labels, cmap='viridis');\n",
    "\n"
   ]
  },
  {
   "cell_type": "code",
   "execution_count": 34,
   "id": "9f47751c",
   "metadata": {},
   "outputs": [],
   "source": [
    "##Gaussian mixture models considers stock variance and returns. \n",
    "##And the probability how a data point belongs to each of the K clusters, as show in the scatter plot."
   ]
  },
  {
   "cell_type": "code",
   "execution_count": null,
   "id": "bcefc828",
   "metadata": {},
   "outputs": [],
   "source": []
  },
  {
   "cell_type": "code",
   "execution_count": null,
   "id": "fe87d27a",
   "metadata": {},
   "outputs": [],
   "source": []
  }
 ],
 "metadata": {
  "kernelspec": {
   "display_name": "Python 3",
   "language": "python",
   "name": "python3"
  },
  "language_info": {
   "codemirror_mode": {
    "name": "ipython",
    "version": 3
   },
   "file_extension": ".py",
   "mimetype": "text/x-python",
   "name": "python",
   "nbconvert_exporter": "python",
   "pygments_lexer": "ipython3",
   "version": "3.8.8"
  }
 },
 "nbformat": 4,
 "nbformat_minor": 5
}
